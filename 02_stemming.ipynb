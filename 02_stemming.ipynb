{
 "cells": [
  {
   "cell_type": "markdown",
   "metadata": {},
   "source": [
    "## Stemming\n",
    "\n",
    "Stemming is the process of reducing a word to its word stem that affixes to suffixes and prefixes or to the roots of words known as a lemma. Stemming is important in natural language understanding (NLU) and natural language processing (NLP).\n",
    "\n",
    "\n",
    "##### stemming is not much used in chatbot instead we use **lemmatization**"
   ]
  },
  {
   "cell_type": "code",
   "execution_count": 17,
   "metadata": {},
   "outputs": [],
   "source": [
    "## Classification Problem\n",
    "## Comments of product is a positive review or negative review\n",
    "## Reviews----> eating, eat,eaten [going,gone,goes]--->go\n",
    "\n",
    "words=[\"eating\",\"eats\",\"eaten\",\"writing\",\"writes\",\"programming\",\"programs\",\"history\",\"finally\",\"finalized\"]"
   ]
  },
  {
   "cell_type": "markdown",
   "metadata": {},
   "source": [
    "### What is PorterStemmer?\n",
    "\n",
    "The **Porter Stemmer** is an algorithm used in **Natural Language Processing (NLP)** to reduce words to their root or base form (called the **stem**). It was developed by Martin Porter in 1980 and is one of the most widely used stemming techniques. The goal is to simplify words by stripping suffixes, reducing words like \"running,\" \"runner,\" and \"ran\" to the root form \"run.\"\n",
    "\n",
    "#### How it Works:\n",
    "\n",
    "Porter Stemmer applies a series of rule-based steps to remove common word endings or suffixes. It operates in phases, each of which attempts to remove various suffixes and produce the stem form of the word.\n",
    "\n",
    "For example:\n",
    "- **running** → **run**\n",
    "- **happiness** → **happi**\n",
    "- **connection** → **connect**\n",
    "\n",
    "---\n",
    "\n",
    "#### Advantages of Porter Stemmer:\n",
    "\n",
    "- **Reduces Dimensionality in NLP Tasks**:\n",
    "   - Reducing words to their stems decreases the size of the vocabulary, simplifying models and computations in tasks like classification or clustering.\n",
    "\n",
    "- **Widely Adopted**:\n",
    "   - The algorithm is well-known and implemented in many NLP libraries (like NLTK and SpaCy), making it easy to integrate into projects.\n"
   ]
  },
  {
   "cell_type": "markdown",
   "metadata": {},
   "source": [
    "**importing porterStemmer class from nltk.stem** "
   ]
  },
  {
   "cell_type": "code",
   "execution_count": 18,
   "metadata": {},
   "outputs": [],
   "source": [
    "from nltk.stem import PorterStemmer "
   ]
  },
  {
   "cell_type": "code",
   "execution_count": 19,
   "metadata": {},
   "outputs": [],
   "source": [
    "# creating instance of class \n",
    "stemming=PorterStemmer()"
   ]
  },
  {
   "cell_type": "code",
   "execution_count": null,
   "metadata": {},
   "outputs": [],
   "source": [
    "# stem() use to find the stem word of giving word \n",
    "# like eat is stem word of eating\n",
    "\n",
    "for word in words:\n",
    "    print(word+\"---->\"+stemming.stem(word))"
   ]
  },
  {
   "cell_type": "markdown",
   "metadata": {},
   "source": [
    "you can observe that the porterstemmer() convert word into there root words \n",
    "but there is ***disadvantage*** is that it produces non-linguistic stems like \n",
    "history---->histori ***which is not same meaning as history***"
   ]
  },
  {
   "cell_type": "markdown",
   "metadata": {},
   "source": [
    "### RegexpStemmer class\n",
    "NLTK has RegexpStemmer class with the help of which we can easily implement Regular Expression Stemmer algorithms. It basically takes a single regular expression and removes any prefix or suffix that matches the expression. Let us see an example"
   ]
  },
  {
   "cell_type": "code",
   "execution_count": 21,
   "metadata": {},
   "outputs": [],
   "source": [
    "#IMPORTING RegexpStemmer class from nltk.stem\n",
    "\n",
    "from nltk.stem import RegexpStemmer"
   ]
  },
  {
   "cell_type": "code",
   "execution_count": 22,
   "metadata": {},
   "outputs": [],
   "source": [
    "# RegexpSTemmer take two positional argument (regexp,min)\n",
    "# where regexp is expression which take out stem word\n",
    "# like ing,s,es,able etc where $ indicate remove from last\n",
    "\n",
    "reg_expression=RegexpStemmer('ing|s$|able$',min=3)\n"
   ]
  },
  {
   "cell_type": "code",
   "execution_count": null,
   "metadata": {},
   "outputs": [],
   "source": [
    "reg_expression.stem('eating')"
   ]
  },
  {
   "cell_type": "code",
   "execution_count": null,
   "metadata": {},
   "outputs": [],
   "source": [
    "reg_expression.stem('ingeating')"
   ]
  },
  {
   "cell_type": "code",
   "execution_count": null,
   "metadata": {},
   "outputs": [],
   "source": [
    "reg_expression.stem('noteable')"
   ]
  },
  {
   "cell_type": "markdown",
   "metadata": {},
   "source": [
    "### Snowball Stemmer\n",
    " It is a stemming algorithm which is also known as the Porter2 stemming algorithm as it is a better version of the Porter Stemmer since some issues of it were fixed in this stemmer."
   ]
  },
  {
   "cell_type": "code",
   "execution_count": 29,
   "metadata": {},
   "outputs": [],
   "source": [
    "# Importing snowballStemmer\n",
    "\n",
    "from nltk.stem import SnowballStemmer"
   ]
  },
  {
   "cell_type": "code",
   "execution_count": 30,
   "metadata": {},
   "outputs": [],
   "source": [
    "# Snowball Stemmer\n",
    "\n",
    "# class SnowballStemmer(\n",
    "#   language:str,\n",
    "#   ignore_stopWords:bool=False\n",
    "# )\n",
    "\n",
    "# The following languages are supported: \n",
    "# Arabic, Danish, Dutch, English, Finnish, French,\n",
    "# German, Hungarian, Italian, Norwegian, Portuguese, Romanian, \n",
    "# Russian, Spanish and Swedish.\n",
    "\n",
    "snowballstemmer=SnowballStemmer('english')"
   ]
  },
  {
   "cell_type": "code",
   "execution_count": null,
   "metadata": {},
   "outputs": [],
   "source": [
    "for word in words:\n",
    "    print(word+\" ---> \",snowballstemmer.stem(word))"
   ]
  },
  {
   "cell_type": "code",
   "execution_count": null,
   "metadata": {},
   "outputs": [],
   "source": [
    "\n",
    "# difference in output of porterStemmer and SnowballStemmer/porter2\n",
    "\n",
    "#stemming is instance of class porterStemmer\n",
    "stemming.stem(\"fairly\"),stemming.stem(\"sportingly\")\n"
   ]
  },
  {
   "cell_type": "code",
   "execution_count": null,
   "metadata": {},
   "outputs": [],
   "source": [
    "# and snowballStemmer is instance of class SNowballStemmer\n",
    "snowballstemmer.stem(\"fairly\"),snowballstemmer.stem(\"sportingly\")"
   ]
  }
 ],
 "metadata": {
  "kernelspec": {
   "display_name": "Python 3",
   "language": "python",
   "name": "python3"
  },
  "language_info": {
   "codemirror_mode": {
    "name": "ipython",
    "version": 3
   },
   "file_extension": ".py",
   "mimetype": "text/x-python",
   "name": "python",
   "nbconvert_exporter": "python",
   "pygments_lexer": "ipython3",
   "version": "3.12.5"
  }
 },
 "nbformat": 4,
 "nbformat_minor": 2
}
